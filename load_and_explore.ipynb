{
 "cells": [
  {
   "cell_type": "code",
   "execution_count": 37,
   "metadata": {},
   "outputs": [
    {
     "name": "stdout",
     "output_type": "stream",
     "text": [
      "Dataset saved with structured reviews as ratings_with_structured_reviews.csv\n",
      "   subcategory  total_reviews  rating sentiment\n",
      "0           C2           6000       3   neutral\n",
      "1           A2           6000       3   neutral\n",
      "2           D3           2000       3   neutral\n",
      "3           C1          10000       4  positive\n",
      "4           C2           6000       3   neutral\n",
      "5           D2           6000       4  positive\n",
      "6           A1          10000       4  positive\n",
      "7           B1          10000       4  positive\n",
      "8           A3           2000       3   neutral\n",
      "9           C3           2000       3   neutral\n",
      "10          D1          10000       5  positive\n",
      "11          E1          10000       5  positive\n",
      "12          C3           2000       4  positive\n",
      "13          C1          10000       5  positive\n",
      "14          E1          10000       4  positive\n",
      "15          B1          10000       5  positive\n",
      "16          D2           6000       2  negative\n",
      "17          D3           2000       2  negative\n",
      "18          E3           2000       2  negative\n",
      "19          B1          10000       5  positive\n"
     ]
    }
   ],
   "source": [
    "import pandas as pd\n",
    "import random\n",
    "\n",
    "# Load the dataset\n",
    "file_path = 'ratings_with_product_names.csv'  # Replace with your dataset path\n",
    "df = pd.read_csv(file_path)\n",
    "\n",
    "# Define categories and subcategories\n",
    "categories = ['A', 'B', 'C', 'D', 'E']  # Categories\n",
    "subcategories_per_category = 3  # Number of subcategories per category\n",
    "\n",
    "# Generate subcategories for each category (e.g., A1, A2, A3, ..., B1, B2, B3)\n",
    "subcategories = [f\"{cat}{i+1}\" for cat in categories for i in range(subcategories_per_category)]\n",
    "\n",
    "# Assign subcategories cyclically to the dataset rows\n",
    "df['subcategory'] = random.choices(subcategories, k=len(df))\n",
    "\n",
    "# Extract the main category (e.g., A from A1)\n",
    "df['category'] = df['subcategory'].str[0]\n",
    "\n",
    "# Structured total reviews (e.g., 10,000, 8,000, 6,000 for each subcategory)\n",
    "base_reviews = 10000  # Start with 10,000 reviews for the first product\n",
    "review_step = 4000  # Difference of 2,000 reviews between subcategories\n",
    "\n",
    "# Create a dictionary to hold total reviews for each subcategory\n",
    "subcategory_reviews = {}\n",
    "for i, subcategory in enumerate(subcategories):\n",
    "    subcategory_reviews[subcategory] = base_reviews - (i % subcategories_per_category) * review_step\n",
    "\n",
    "# Assign total reviews to each subcategory in the dataset\n",
    "df['total_reviews'] = df['subcategory'].map(subcategory_reviews)\n",
    "\n",
    "# Assign structured ratings based on total reviews\n",
    "def assign_rating(total_reviews):\n",
    "    if total_reviews >= 10000:\n",
    "        return random.choices([4, 5], weights=[0.4, 0.6])[0]  # Higher ratings for top reviews\n",
    "    elif total_reviews >= 8000:\n",
    "        return random.choices([3, 4, 5], weights=[0.2, 0.3, 0.5])[0]\n",
    "    else:\n",
    "        return random.choices([2, 3, 4], weights=[0.3, 0.4, 0.3])[0]  # Lower ratings for fewer reviews\n",
    "\n",
    "df['rating'] = df['total_reviews'].apply(assign_rating)\n",
    "\n",
    "# Map ratings to sentiments\n",
    "def map_sentiment(rating):\n",
    "    if rating <= 2:\n",
    "        return 'negative'\n",
    "    elif rating == 3:\n",
    "        return 'neutral'\n",
    "    else:\n",
    "        return 'positive'\n",
    "\n",
    "df['sentiment'] = df['rating'].apply(map_sentiment)\n",
    "\n",
    "# Save the updated dataset\n",
    "df.to_csv('ratings_with_structured_reviews.csv', index=False)\n",
    "print(\"Dataset saved with structured reviews as ratings_with_structured_reviews.csv\")\n",
    "\n",
    "# Display a sample of the updated dataset\n",
    "print(df[['subcategory', 'total_reviews', 'rating', 'sentiment']].head(20))\n"
   ]
  },
  {
   "cell_type": "code",
   "execution_count": 38,
   "metadata": {},
   "outputs": [
    {
     "name": "stdout",
     "output_type": "stream",
     "text": [
      "Subcategory summary saved as subcategory_summary.csv\n",
      "   category subcategory  avg_rating  total_reviews  positive_reviews  \\\n",
      "0         A          A1         4.0              5             51935   \n",
      "1         A          A2         4.0              5             51714   \n",
      "2         A          A3         4.0              5             51676   \n",
      "3         B          B1         4.0              5             51913   \n",
      "4         B          B2         4.0              5             51774   \n",
      "5         B          B3         4.0              5             51459   \n",
      "6         C          C1         4.0              5             51908   \n",
      "7         C          C2         4.0              5             51574   \n",
      "8         C          C3         4.0              5             51536   \n",
      "9         D          D1         4.0              5             51343   \n",
      "10        D          D2         4.0              5             51524   \n",
      "11        D          D3         4.0              5             51571   \n",
      "12        E          E1         4.0              5             50920   \n",
      "13        E          E2         4.0              5             51630   \n",
      "14        E          E3         4.0              5             51695   \n",
      "\n",
      "    neutral_reviews  negative_reviews  \n",
      "0              5666             12595  \n",
      "1              5449             12818  \n",
      "2              5532             12841  \n",
      "3              5455             12802  \n",
      "4              5565             12711  \n",
      "5              5435             12704  \n",
      "6              5512             12648  \n",
      "7              5614             12854  \n",
      "8              5536             12809  \n",
      "9              5553             12637  \n",
      "10             5547             12514  \n",
      "11             5550             12661  \n",
      "12             5704             12710  \n",
      "13             5675             12804  \n",
      "14             5716             12785  \n",
      "Best subcategories by category:\n",
      "   category subcategory  avg_rating  total_reviews  positive_reviews  \\\n",
      "0         A          A1         4.0              5             51935   \n",
      "3         B          B1         4.0              5             51913   \n",
      "6         C          C1         4.0              5             51908   \n",
      "9         D          D1         4.0              5             51343   \n",
      "12        E          E1         4.0              5             50920   \n",
      "\n",
      "    neutral_reviews  negative_reviews  \n",
      "0              5666             12595  \n",
      "3              5455             12802  \n",
      "6              5512             12648  \n",
      "9              5553             12637  \n",
      "12             5704             12710  \n"
     ]
    }
   ],
   "source": [
    "# Load the dataset with categories and subcategories\n",
    "df = pd.read_csv('ratings_with_categories.csv')\n",
    "\n",
    "# Ensure sentiment exists (map ratings to sentiments if not already done)\n",
    "def map_sentiment(rating):\n",
    "    if rating <= 2:\n",
    "        return 'negative'\n",
    "    elif rating == 3:\n",
    "        return 'neutral'\n",
    "    else:\n",
    "        return 'positive'\n",
    "\n",
    "df['sentiment'] = df['rating'].apply(map_sentiment)\n",
    "\n",
    "# Group by subcategory and calculate summary metrics\n",
    "subcategory_summary = df.groupby(['category', 'subcategory']).agg(\n",
    "    avg_rating=('rating', 'mean'),\n",
    "    total_reviews=('rating', 'max'),\n",
    "    positive_reviews=('sentiment', lambda x: (x == 'positive').sum()),\n",
    "    neutral_reviews=('sentiment', lambda x: (x == 'neutral').sum()),\n",
    "    negative_reviews=('sentiment', lambda x: (x == 'negative').sum())\n",
    ").reset_index()\n",
    "\n",
    "# Round off the average rating to 1 decimal place\n",
    "subcategory_summary['avg_rating'] = subcategory_summary['avg_rating'].round(1)\n",
    "\n",
    "# Save the subcategory summary\n",
    "subcategory_summary.to_csv('subcategory_summary.csv', index=False)\n",
    "print(\"Subcategory summary saved as subcategory_summary.csv\")\n",
    "\n",
    "# Display the summary for verification\n",
    "print(subcategory_summary)\n",
    "\n",
    "\n",
    "# Identify the best subcategory in each category\n",
    "best_subcategories = subcategory_summary.loc[\n",
    "    subcategory_summary.groupby('category')['avg_rating'].idxmax()\n",
    "]\n",
    "\n",
    "print(\"Best subcategories by category:\")\n",
    "print(best_subcategories)\n",
    "\n"
   ]
  },
  {
   "cell_type": "code",
   "execution_count": 40,
   "metadata": {},
   "outputs": [
    {
     "name": "stdout",
     "output_type": "stream",
     "text": [
      "Updated dataset saved as ratings_with_sentiment.csv\n"
     ]
    }
   ],
   "source": [
    "# Map ratings to sentiment\n",
    "def map_sentiment(rating):\n",
    "    if rating <= 2:\n",
    "        return 'negative'\n",
    "    elif rating == 3:\n",
    "        return 'neutral'\n",
    "    else:\n",
    "        return 'positive'\n",
    "\n",
    "df['sentiment'] = df['rating'].apply(map_sentiment)\n",
    "\n",
    "# Save the updated dataset to a new file\n",
    "df.to_csv('ratings_with_sentiment.csv', index=False)\n",
    "print(\"Updated dataset saved as ratings_with_sentiment.csv\")"
   ]
  },
  {
   "cell_type": "code",
   "execution_count": 41,
   "metadata": {},
   "outputs": [
    {
     "name": "stdout",
     "output_type": "stream",
     "text": [
      "Sentiment counts:\n",
      " sentiment\n",
      "positive    774172\n",
      "negative    190893\n",
      "neutral      83509\n",
      "Name: count, dtype: int64\n"
     ]
    },
    {
     "data": {
      "image/png": "[encoded data removed]",
      "text/plain": [
       "<Figure size 640x480 with 1 Axes>"
      ]
     },
     "metadata": {},
     "output_type": "display_data"
    }
   ],
   "source": [
    "import matplotlib.pyplot as plt\n",
    "sentiment_counts = df['sentiment'].value_counts()\n",
    "print(\"Sentiment counts:\\n\", sentiment_counts)\n",
    "\n",
    "# Plot sentiment distribution\n",
    "sentiment_counts.plot(kind='bar', color=['red', 'blue', 'green'])\n",
    "plt.title('Sentiment Distribution')\n",
    "plt.xlabel('Sentiment')\n",
    "plt.ylabel('Count')\n",
    "plt.show()"
   ]
  },
  {
   "cell_type": "code",
   "execution_count": 42,
   "metadata": {},
   "outputs": [
    {
     "name": "stdout",
     "output_type": "stream",
     "text": [
      "Product summary saved as product_summary.csv\n"
     ]
    }
   ],
   "source": [
    "# Load the dataset\n",
    "file_path = 'ratings_with_sentiment.csv'  # Updated dataset file\n",
    "df = pd.read_csv(file_path)\n",
    "\n",
    "# Add a mapping of product_id to product_name (if missing in dataset)\n",
    "product_map = {\n",
    "    132793040: 'Product A',\n",
    "    321732944: 'Product B',\n",
    "    439886341: 'Product C'\n",
    "}\n",
    "\n",
    "if 'product_name' not in df.columns:\n",
    "    df['product_name'] = df['product_id'].map(product_map)\n",
    "\n",
    "# Group by product and calculate average rating and sentiment counts\n",
    "product_summary = df.groupby('product_name').agg(\n",
    "    avg_rating=('rating', 'mean'),\n",
    "    total_reviews=('rating', 'count'),\n",
    "    positive_reviews=('sentiment', lambda x: (x == 'positive').sum()),\n",
    "    neutral_reviews=('sentiment', lambda x: (x == 'neutral').sum()),\n",
    "    negative_reviews=('sentiment', lambda x: (x == 'negative').sum())\n",
    ").reset_index()\n",
    "\n",
    "# Save the summary to a CSV file\n",
    "product_summary.to_csv('product_summary.csv', index=False)\n",
    "print(\"Product summary saved as product_summary.csv\")"
   ]
  }
 ],
 "metadata": {
  "kernelspec": {
   "display_name": "Python 3",
   "language": "python",
   "name": "python3"
  },
  "language_info": {
   "codemirror_mode": {
    "name": "ipython",
    "version": 3
   },
   "file_extension": ".py",
   "mimetype": "text/x-python",
   "name": "python",
   "nbconvert_exporter": "python",
   "pygments_lexer": "ipython3",
   "version": "3.11.1"
  }
 },
 "nbformat": 4,
 "nbformat_minor": 2
}
